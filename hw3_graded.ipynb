{
 "cells": [
  {
   "cell_type": "markdown",
   "metadata": {},
   "source": [
    "# STA 141B: Homework 3\n",
    "Winter 2018"
   ]
  },
  {
   "cell_type": "markdown",
   "metadata": {},
   "source": [
    "## Student Information\n",
    "\n",
    "After the colons (in the same line) please write just your first name, last name, and the 9 digit student ID number below.\n",
    "\n",
    "First Name: Rick\n",
    "\n",
    "Last Name: Alarcon Sisniegas\n",
    "\n",
    "Student ID: 914314280"
   ]
  },
  {
   "cell_type": "markdown",
   "metadata": {},
   "source": [
    "## Instructions\n",
    "\n",
    "We use a script that extracts your answers by looking for cells in between the cells containing the exercise statements.  So you \n",
    "\n",
    "- MUST add cells in between the exercise statements and add answers within them and\n",
    "- MUST NOT modify the existing cells, particularly not the problem statement\n",
    "\n",
    "To make markdown, please switch the cell type to markdown (from code) - you can hit 'm' when you are in command mode - and use the markdown language.  For a brief tutorial see: https://daringfireball.net/projects/markdown/syntax\n"
   ]
  },
  {
   "cell_type": "markdown",
   "metadata": {},
   "source": [
    "## Fruits and Veggies\n",
    "\n",
    "The US Department of Agriculture publishes price estimates for fruits and vegetables [online](https://www.ers.usda.gov/data-products/fruit-and-vegetable-prices/fruit-and-vegetable-prices/). The most recent estimates are based on a 2013 survey of US retail stores.\n",
    "\n",
    "The estimates are provided as a collection of MS Excel files, with one file per fruit or vegetable. The `assignment3_data.zip` file contains the fruit and vegetable files in the directories `fruit` and `vegetables`, respectively."
   ]
  },
  {
   "cell_type": "markdown",
   "metadata": {
    "exercise": "1.1",
    "points": "20"
   },
   "source": [
    "__Exercise 1.1.__ Use pandas to extract the \"Fresh\" row(s) from the <strong style=\"color:#B0B\">fruit</strong> Excel files. Combine the data into a single data frame. Your data frame should look something like this:\n",
    "\n",
    "type       | food       | form   | price_per_lb | yield | lb_per_cup | price_per_cup\n",
    "---------- | ---------- | ------ | ------------ | ----- | ---------- | -------------\n",
    "fruit      | watermelon | Fresh1 | 0.333412     | 0.52  | 0.330693   | 0.212033\n",
    "fruit      | cantaloupe | Fresh1 | 0.535874     | 0.51  | 0.374786   | 0.3938\n",
    "vegetables | onions     | Fresh1 | 1.03811      | 0.9   | 0.35274    | 0.406868\n",
    "...        |            |        |              |       |            |\n",
    "\n",
    "\n",
    "It's okay if the rows and columns of your data frame are in a different order. These modules are especially relevant:\n",
    "\n",
    "* [`str` methods](https://docs.python.org/2/library/stdtypes.html#string-methods)\n",
    "* [`os`](https://docs.python.org/2/library/os.html)\n",
    "* [`os.path`](https://docs.python.org/2/library/os.path.html)\n",
    "* [pandas](http://pandas.pydata.org/pandas-docs/stable/): `read_excel()`, `concat()`, `.fillna()`, `.str`, plotting methods\n",
    "\n",
    "Ask questions and search the documentation/web to find the functions you need.\n"
   ]
  },
  {
   "cell_type": "markdown",
   "metadata": {
    "name": "gr1.1"
   },
   "source": [
    "<span style='color:red'>Grade:5/20</span>\n",
    "\n",
    "Notes: code doesn't work; check file.split(\".\")[0].split(\"/\")[1] and your directory"
   ]
  },
  {
   "cell_type": "code",
   "execution_count": 1,
   "metadata": {},
   "outputs": [],
   "source": [
    "import pandas as pd\n",
    "import os"
   ]
  },
  {
   "cell_type": "code",
   "execution_count": 2,
   "metadata": {},
   "outputs": [
    {
     "data": {
      "text/plain": [
       "'grapes'"
      ]
     },
     "execution_count": 2,
     "metadata": {},
     "output_type": "execute_result"
    }
   ],
   "source": [
    "#How to Split \n",
    "filename = \"assignment3_data/fruit/grapes.xlsx\"\n",
    "#[0] to get the first element then [-1] to get the last element which is \"grapes\"\n",
    "grapes=filename.split(\".\")[0].split(\"/\")[-1] \n",
    "grapes"
   ]
  },
  {
   "cell_type": "code",
   "execution_count": 44,
   "metadata": {},
   "outputs": [],
   "source": [
    "import pandas as pd\n",
    "import os\n",
    "def read(file = '../assignment3_data/fruit/'):\n",
    "    # use os fucntions \n",
    "    myfiles = os.listdir(file)\n",
    "    df = pd.DataFrame()\n",
    "    #find each file and iterated \n",
    "    for f in myfiles:\n",
    "        data = pd.read_excel(file + f)\n",
    "        is_fresh = data.iloc[:,0].str.contains(\"Fresh\").fillna(False)\n",
    "        data = data.loc[is_fresh, :]\n",
    "        \n",
    "        #fix columns\n",
    "        if len(data.columns) >7:\n",
    "            data = data.drop(labels = data.columns[[7,8]],  axis= 1)\n",
    "            data = data.drop(labels = data.columns[[2,5]], axis= 1)\n",
    "            data.columns = [\"form\", \"price_per_pound\", \"yield\",\"lb_per_cup\",\"price_per_cup\"]\n",
    "            print(f.split(\".\")[0].split(\"/\")[-1])\n",
    "\n",
    "            data.insert(0,\"food\", f.split(\".\")[0].split(\"/\")[-1])\n",
    "            data.insert(0,\"type\", file.split(\".\")[0].split(\"/\")[1])\n",
    "            df = df.append(data)\n",
    "            \n",
    "    return (df)\n"
   ]
  },
  {
   "cell_type": "code",
   "execution_count": 46,
   "metadata": {},
   "outputs": [
    {
     "ename": "FileNotFoundError",
     "evalue": "[Errno 2] No such file or directory: '~/sta141b/grading/2018-sta141b/homeworks/hw3/hw3/assignment3_data/fruit/'",
     "output_type": "error",
     "traceback": [
      "\u001b[0;31m---------------------------------------------------------------------------\u001b[0m",
      "\u001b[0;31mFileNotFoundError\u001b[0m                         Traceback (most recent call last)",
      "\u001b[0;32m<ipython-input-46-dd61cfc4f230>\u001b[0m in \u001b[0;36m<module>\u001b[0;34m()\u001b[0m\n\u001b[0;32m----> 1\u001b[0;31m \u001b[0mveg\u001b[0m \u001b[0;34m=\u001b[0m \u001b[0mread\u001b[0m\u001b[0;34m(\u001b[0m\u001b[0mfile\u001b[0m \u001b[0;34m=\u001b[0m \u001b[0;34m'~/sta141b/grading/2018-sta141b/homeworks/hw3/hw3/assignment3_data/fruit/'\u001b[0m\u001b[0;34m)\u001b[0m\u001b[0;34m\u001b[0m\u001b[0m\n\u001b[0m",
      "\u001b[0;32m<ipython-input-44-e7a645a7a047>\u001b[0m in \u001b[0;36mread\u001b[0;34m(file)\u001b[0m\n\u001b[1;32m      3\u001b[0m \u001b[0;32mdef\u001b[0m \u001b[0mread\u001b[0m\u001b[0;34m(\u001b[0m\u001b[0mfile\u001b[0m \u001b[0;34m=\u001b[0m \u001b[0;34m'../assignment3_data/fruit/'\u001b[0m\u001b[0;34m)\u001b[0m\u001b[0;34m:\u001b[0m\u001b[0;34m\u001b[0m\u001b[0m\n\u001b[1;32m      4\u001b[0m     \u001b[0;31m# use os fucntions\u001b[0m\u001b[0;34m\u001b[0m\u001b[0;34m\u001b[0m\u001b[0m\n\u001b[0;32m----> 5\u001b[0;31m     \u001b[0mmyfiles\u001b[0m \u001b[0;34m=\u001b[0m \u001b[0mos\u001b[0m\u001b[0;34m.\u001b[0m\u001b[0mlistdir\u001b[0m\u001b[0;34m(\u001b[0m\u001b[0mfile\u001b[0m\u001b[0;34m)\u001b[0m\u001b[0;34m\u001b[0m\u001b[0m\n\u001b[0m\u001b[1;32m      6\u001b[0m     \u001b[0mdf\u001b[0m \u001b[0;34m=\u001b[0m \u001b[0mpd\u001b[0m\u001b[0;34m.\u001b[0m\u001b[0mDataFrame\u001b[0m\u001b[0;34m(\u001b[0m\u001b[0;34m)\u001b[0m\u001b[0;34m\u001b[0m\u001b[0m\n\u001b[1;32m      7\u001b[0m     \u001b[0;31m#find each file and iterated\u001b[0m\u001b[0;34m\u001b[0m\u001b[0;34m\u001b[0m\u001b[0m\n",
      "\u001b[0;31mFileNotFoundError\u001b[0m: [Errno 2] No such file or directory: '~/sta141b/grading/2018-sta141b/homeworks/hw3/hw3/assignment3_data/fruit/'"
     ]
    }
   ],
   "source": [
    "veg = read(file = '../assignment3_data/fruit/')"
   ]
  },
  {
   "cell_type": "code",
   "execution_count": 3,
   "metadata": {},
   "outputs": [
    {
     "ename": "NameError",
     "evalue": "name 'read' is not defined",
     "output_type": "error",
     "traceback": [
      "\u001b[0;31m---------------------------------------------------------------------------\u001b[0m",
      "\u001b[0;31mNameError\u001b[0m                                 Traceback (most recent call last)",
      "\u001b[0;32m<ipython-input-3-b47f46892458>\u001b[0m in \u001b[0;36m<module>\u001b[0;34m()\u001b[0m\n\u001b[0;32m----> 1\u001b[0;31m \u001b[0mfruit\u001b[0m \u001b[0;34m=\u001b[0m \u001b[0mread\u001b[0m\u001b[0;34m(\u001b[0m\u001b[0mfile\u001b[0m \u001b[0;34m=\u001b[0m \u001b[0;34m'assignment3_data/fruit/'\u001b[0m\u001b[0;34m)\u001b[0m\u001b[0;34m\u001b[0m\u001b[0m\n\u001b[0m",
      "\u001b[0;31mNameError\u001b[0m: name 'read' is not defined"
     ]
    }
   ],
   "source": [
    "fruit = read(file = 'assignment3_data/fruit/')"
   ]
  },
  {
   "cell_type": "code",
   "execution_count": null,
   "metadata": {
    "collapsed": true
   },
   "outputs": [],
   "source": [
    "#combining the two dataframes\n",
    "two_foods = pd.concat([fruits,vegetables]).reset_index(drop=True)\n",
    "two_foods"
   ]
  },
  {
   "cell_type": "code",
   "execution_count": null,
   "metadata": {
    "collapsed": true
   },
   "outputs": [],
   "source": [
    "#How to Split \n",
    "filename = \"assignment3_data/fruit/grapes.xlsx\"\n",
    "#[0] to get the first element then [-1] to get the last element which is \"grapes\"\n",
    "grapes=filename.split(\".\")[0].split(\"/\")[-1] \n",
    "grapes"
   ]
  },
  {
   "cell_type": "code",
   "execution_count": null,
   "metadata": {
    "collapsed": true
   },
   "outputs": [],
   "source": [
    "import pandas as pd\n",
    "#Start with solving problem for just 1 case.\n",
    "\n",
    "#Get the \"Fresh\" rows.\n",
    "filename = \"assignment3_data/fruit/grapes.xlsx\"\n",
    "df = pd.read_excel(filename)\n",
    "is_fresh = df.iloc[:,0].str.contains(\"Fresh\").fillna(False)\n",
    " #iloc allow us to use index for rows and col\n",
    " #instead of print NA, we print \"False\"\n",
    " # found the row that have the \"fresh\" name\n",
    "df = df.loc[is_fresh,:] #gets rows (or columns) with particular labels from the index.\n",
    "df\n",
    "print(df)\n",
    "print(df.columns[[2,5]])\n",
    "\n",
    "#Fix cols to match example.\n",
    "df = df.drop(columns = df.columns[[2,5]]) #delete column 2 and 5, note axis 0 is row, axis 1 is col\n",
    "df.columns = [\"form\", \"price_per_lb\", \"yield\",\"lb_per_cup\",\"price_per_cup\"]\n",
    "df.insert(0, \"food\", filename.split(\".\")[0].split(\"/\")[-1])#insert first column called grapes\n",
    "print(df)\n",
    "#df.insert(0,\"type\", \"fruit\")\n",
    "#df\"\"\"\n",
    "\n"
   ]
  },
  {
   "cell_type": "code",
   "execution_count": null,
   "metadata": {
    "collapsed": true
   },
   "outputs": [],
   "source": []
  },
  {
   "cell_type": "code",
   "execution_count": null,
   "metadata": {
    "collapsed": true
   },
   "outputs": [],
   "source": [
    "#Use seaborn to make plots, it is easier import seaborn\n",
    "import seaborn as sns\n",
    "\n",
    "#sns.stripplot()\n",
    "df.columns= [\"a\",\"b\"]\n",
    "df.a=[1,2,3]\n",
    "df.b=[1.1, 3.7, 9.2]\n",
    "df\n",
    "\n",
    "sns.set(style=\"whitegrid\")\n",
    "gsns.stripplot(x=\"a\", y=\"b\", data =df, orient= \"h\")\n",
    "g.axes.xaxis.grid(False)\n"
   ]
  },
  {
   "cell_type": "markdown",
   "metadata": {
    "exercise": "1.2",
    "points": "20"
   },
   "source": [
    "__Exercise 1.2.__ Reuse your code from exercise 1.1 to extract the \"Fresh\" row(s) from the <strong style=\"color:#B0B\">vegetable</strong> Excel files.\n",
    "\n",
    "Does your code produce the correct prices for tomatoes? If not, why not? Do any other files have the same problem as the tomatoes file?\n",
    "\n",
    "You don't need to extract the prices for these problem files. However, make sure the prices are extracted for files like asparagus that don't have this problem."
   ]
  },
  {
   "cell_type": "markdown",
   "metadata": {
    "name": "gr1.2"
   },
   "source": [
    "<span style='color:red'>Grade:20/20</span>\n",
    "\n",
    "Notes: I give your 20 here because your code almost works. "
   ]
  },
  {
   "cell_type": "code",
   "execution_count": null,
   "metadata": {
    "collapsed": true
   },
   "outputs": [],
   "source": [
    "combinefood = pd.concat([fruit, veg]).reset_index(drop=True)\n",
    "conbinefood"
   ]
  },
  {
   "cell_type": "markdown",
   "metadata": {
    "exercise": "1.3",
    "points": "20"
   },
   "source": [
    "__Exercise 1.3.__ Remove rows without a price from the vegetable data frame and then combine the fruit and vegetable data frames. Make sure all columns of numbers are numeric (not strings)."
   ]
  },
  {
   "cell_type": "markdown",
   "metadata": {
    "name": "gr1.3"
   },
   "source": [
    "<span style='color:red'>Grade:0/20</span>\n",
    "\n",
    "Notes: convert the numbers into numeric; drop na"
   ]
  },
  {
   "cell_type": "markdown",
   "metadata": {
    "exercise": "1.4",
    "points": "20"
   },
   "source": [
    "__Exercise 1.4.__ Discuss the questions below (a paragraph each is sufficient). Use plots to support your ideas.\n",
    "\n",
    "* What kinds of fruits are the most expensive (per pound)? What kinds are the least expensive?\n",
    "* How do the price distributions compare for fruit and vegetables?\n",
    "* Which foods are the best value for the price?\n",
    "* What's something surprising about this data set?\n",
    "* Which foods do you expect to provide the best combination of price, yield, and nutrition? A future assignment may combine this data set with another so you can check your hypothesis."
   ]
  },
  {
   "cell_type": "markdown",
   "metadata": {
    "name": "gr1.4"
   },
   "source": [
    "<span style='color:red'>Grade:0/20</span>\n",
    "\n",
    "Notes:"
   ]
  },
  {
   "cell_type": "code",
   "execution_count": null,
   "metadata": {
    "collapsed": true
   },
   "outputs": [],
   "source": [
    "#sort data and ascending false\n",
    "fruits.sort_values('price_per_pound',ascending=False)[0:5]"
   ]
  },
  {
   "cell_type": "code",
   "execution_count": null,
   "metadata": {
    "collapsed": true
   },
   "outputs": [],
   "source": []
  }
 ],
 "metadata": {
  "kernelspec": {
   "display_name": "Python 3",
   "language": "python",
   "name": "python3"
  },
  "language_info": {
   "codemirror_mode": {
    "name": "ipython",
    "version": 3
   },
   "file_extension": ".py",
   "mimetype": "text/x-python",
   "name": "python",
   "nbconvert_exporter": "python",
   "pygments_lexer": "ipython3",
   "version": "3.6.4"
  }
 },
 "nbformat": 4,
 "nbformat_minor": 2
}
